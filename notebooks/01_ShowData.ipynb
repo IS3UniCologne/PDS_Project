{
 "cells": [
  {
   "cell_type": "code",
   "execution_count": 1,
   "metadata": {},
   "outputs": [
    {
     "name": "stdout",
     "output_type": "stream",
     "text": [
      "Obtaining file:///C:/Users/lenovo/documents/GitHub/Project\n",
      "Requirement already satisfied: pandas in c:\\users\\lenovo\\miniconda3\\envs\\pds20\\lib\\site-packages (from PDS-Project==0.0.1.dev1) (1.0.3)\n",
      "Requirement already satisfied: scikit-learn in c:\\users\\lenovo\\miniconda3\\envs\\pds20\\lib\\site-packages (from PDS-Project==0.0.1.dev1) (0.22.1)\n",
      "Requirement already satisfied: click in c:\\users\\lenovo\\miniconda3\\envs\\pds20\\lib\\site-packages (from PDS-Project==0.0.1.dev1) (7.1.1)\n",
      "Requirement already satisfied: python-dateutil>=2.6.1 in c:\\users\\lenovo\\miniconda3\\envs\\pds20\\lib\\site-packages (from pandas->PDS-Project==0.0.1.dev1) (2.8.1)\n",
      "Requirement already satisfied: numpy>=1.13.3 in c:\\users\\lenovo\\miniconda3\\envs\\pds20\\lib\\site-packages (from pandas->PDS-Project==0.0.1.dev1) (1.18.1)\n",
      "Requirement already satisfied: pytz>=2017.2 in c:\\users\\lenovo\\miniconda3\\envs\\pds20\\lib\\site-packages (from pandas->PDS-Project==0.0.1.dev1) (2019.3)\n",
      "Requirement already satisfied: joblib>=0.11 in c:\\users\\lenovo\\miniconda3\\envs\\pds20\\lib\\site-packages (from scikit-learn->PDS-Project==0.0.1.dev1) (0.14.1)\n",
      "Requirement already satisfied: scipy>=0.17.0 in c:\\users\\lenovo\\miniconda3\\envs\\pds20\\lib\\site-packages (from scikit-learn->PDS-Project==0.0.1.dev1) (1.4.1)\n",
      "Requirement already satisfied: six>=1.5 in c:\\users\\lenovo\\miniconda3\\envs\\pds20\\lib\\site-packages (from python-dateutil>=2.6.1->pandas->PDS-Project==0.0.1.dev1) (1.14.0)\n",
      "Installing collected packages: PDS-Project\n",
      "  Running setup.py develop for PDS-Project\n",
      "Successfully installed PDS-Project\n"
     ]
    }
   ],
   "source": [
    "!pip install -e .."
   ]
  },
  {
   "cell_type": "code",
   "execution_count": 2,
   "metadata": {},
   "outputs": [],
   "source": [
    "import os\n",
    "import pandas as pd"
   ]
  },
  {
   "cell_type": "code",
   "execution_count": 3,
   "metadata": {},
   "outputs": [
    {
     "data": {
      "text/plain": [
       "'C:\\\\Users\\\\lenovo\\\\documents\\\\GitHub\\\\Project\\\\notebooks\\\\../nextbike/data\\\\input/nuremberg.csv'"
      ]
     },
     "execution_count": 3,
     "metadata": {},
     "output_type": "execute_result"
    }
   ],
   "source": [
    "path = os.path.join(os.path.join(os.getcwd(), \"../nextbike/data\"), \"input/nuremberg.csv\")\n",
    "path"
   ]
  },
  {
   "cell_type": "code",
   "execution_count": 4,
   "metadata": {},
   "outputs": [
    {
     "data": {
      "text/html": [
       "<div>\n",
       "<style scoped>\n",
       "    .dataframe tbody tr th:only-of-type {\n",
       "        vertical-align: middle;\n",
       "    }\n",
       "\n",
       "    .dataframe tbody tr th {\n",
       "        vertical-align: top;\n",
       "    }\n",
       "\n",
       "    .dataframe thead th {\n",
       "        text-align: right;\n",
       "    }\n",
       "</style>\n",
       "<table border=\"1\" class=\"dataframe\">\n",
       "  <thead>\n",
       "    <tr style=\"text-align: right;\">\n",
       "      <th></th>\n",
       "      <th>Unnamed: 0</th>\n",
       "      <th>p_spot</th>\n",
       "      <th>p_place_type</th>\n",
       "      <th>datetime</th>\n",
       "      <th>b_number</th>\n",
       "      <th>trip</th>\n",
       "      <th>p_uid</th>\n",
       "      <th>p_bikes</th>\n",
       "      <th>p_lat</th>\n",
       "      <th>b_bike_type</th>\n",
       "      <th>p_name</th>\n",
       "      <th>p_number</th>\n",
       "      <th>p_lng</th>\n",
       "      <th>p_bike</th>\n",
       "    </tr>\n",
       "  </thead>\n",
       "  <tbody>\n",
       "    <tr>\n",
       "      <th>0</th>\n",
       "      <td>0</td>\n",
       "      <td>True</td>\n",
       "      <td>0</td>\n",
       "      <td>2019-01-20 02:06:00</td>\n",
       "      <td>11281</td>\n",
       "      <td>first</td>\n",
       "      <td>4774295</td>\n",
       "      <td>5</td>\n",
       "      <td>50.808852</td>\n",
       "      <td>15</td>\n",
       "      <td>Biegenstraße/Cineplex</td>\n",
       "      <td>5155.0</td>\n",
       "      <td>8.773134</td>\n",
       "      <td>False</td>\n",
       "    </tr>\n",
       "    <tr>\n",
       "      <th>1</th>\n",
       "      <td>1</td>\n",
       "      <td>True</td>\n",
       "      <td>0</td>\n",
       "      <td>2019-01-20 14:16:00</td>\n",
       "      <td>11281</td>\n",
       "      <td>last</td>\n",
       "      <td>4774295</td>\n",
       "      <td>4</td>\n",
       "      <td>50.808852</td>\n",
       "      <td>15</td>\n",
       "      <td>Biegenstraße/Cineplex</td>\n",
       "      <td>5155.0</td>\n",
       "      <td>8.773134</td>\n",
       "      <td>False</td>\n",
       "    </tr>\n",
       "    <tr>\n",
       "      <th>2</th>\n",
       "      <td>2</td>\n",
       "      <td>True</td>\n",
       "      <td>0</td>\n",
       "      <td>2019-01-20 00:00:00</td>\n",
       "      <td>11169</td>\n",
       "      <td>first</td>\n",
       "      <td>4774543</td>\n",
       "      <td>5</td>\n",
       "      <td>50.795224</td>\n",
       "      <td>15</td>\n",
       "      <td>Südbahnhof</td>\n",
       "      <td>5173.0</td>\n",
       "      <td>8.763266</td>\n",
       "      <td>False</td>\n",
       "    </tr>\n",
       "    <tr>\n",
       "      <th>3</th>\n",
       "      <td>3</td>\n",
       "      <td>True</td>\n",
       "      <td>0</td>\n",
       "      <td>2019-01-20 01:55:00</td>\n",
       "      <td>11169</td>\n",
       "      <td>start</td>\n",
       "      <td>4774543</td>\n",
       "      <td>5</td>\n",
       "      <td>50.795224</td>\n",
       "      <td>15</td>\n",
       "      <td>Südbahnhof</td>\n",
       "      <td>5173.0</td>\n",
       "      <td>8.763266</td>\n",
       "      <td>False</td>\n",
       "    </tr>\n",
       "    <tr>\n",
       "      <th>4</th>\n",
       "      <td>4</td>\n",
       "      <td>True</td>\n",
       "      <td>0</td>\n",
       "      <td>2019-01-20 02:06:00</td>\n",
       "      <td>11169</td>\n",
       "      <td>end</td>\n",
       "      <td>4774368</td>\n",
       "      <td>4</td>\n",
       "      <td>50.804522</td>\n",
       "      <td>15</td>\n",
       "      <td>Frankfurter Straße/Psychologie</td>\n",
       "      <td>5159.0</td>\n",
       "      <td>8.770358</td>\n",
       "      <td>False</td>\n",
       "    </tr>\n",
       "    <tr>\n",
       "      <th>...</th>\n",
       "      <td>...</td>\n",
       "      <td>...</td>\n",
       "      <td>...</td>\n",
       "      <td>...</td>\n",
       "      <td>...</td>\n",
       "      <td>...</td>\n",
       "      <td>...</td>\n",
       "      <td>...</td>\n",
       "      <td>...</td>\n",
       "      <td>...</td>\n",
       "      <td>...</td>\n",
       "      <td>...</td>\n",
       "      <td>...</td>\n",
       "      <td>...</td>\n",
       "    </tr>\n",
       "    <tr>\n",
       "      <th>2275084</th>\n",
       "      <td>2275084</td>\n",
       "      <td>False</td>\n",
       "      <td>12</td>\n",
       "      <td>2019-12-31 23:59:00</td>\n",
       "      <td>90483</td>\n",
       "      <td>last</td>\n",
       "      <td>26506255</td>\n",
       "      <td>1</td>\n",
       "      <td>49.456960</td>\n",
       "      <td>71</td>\n",
       "      <td>BIKE 90483</td>\n",
       "      <td>0.0</td>\n",
       "      <td>11.105922</td>\n",
       "      <td>True</td>\n",
       "    </tr>\n",
       "    <tr>\n",
       "      <th>2275085</th>\n",
       "      <td>2275085</td>\n",
       "      <td>False</td>\n",
       "      <td>12</td>\n",
       "      <td>2019-12-31 11:17:00</td>\n",
       "      <td>90057</td>\n",
       "      <td>first</td>\n",
       "      <td>26504052</td>\n",
       "      <td>0</td>\n",
       "      <td>49.456893</td>\n",
       "      <td>71</td>\n",
       "      <td>BIKE 90057</td>\n",
       "      <td>0.0</td>\n",
       "      <td>11.088171</td>\n",
       "      <td>True</td>\n",
       "    </tr>\n",
       "    <tr>\n",
       "      <th>2275086</th>\n",
       "      <td>2275086</td>\n",
       "      <td>True</td>\n",
       "      <td>0</td>\n",
       "      <td>2019-12-31 23:59:00</td>\n",
       "      <td>90057</td>\n",
       "      <td>last</td>\n",
       "      <td>66103</td>\n",
       "      <td>4</td>\n",
       "      <td>49.457127</td>\n",
       "      <td>71</td>\n",
       "      <td>Rathenauplatz</td>\n",
       "      <td>4611.0</td>\n",
       "      <td>11.089604</td>\n",
       "      <td>False</td>\n",
       "    </tr>\n",
       "    <tr>\n",
       "      <th>2275087</th>\n",
       "      <td>2275087</td>\n",
       "      <td>True</td>\n",
       "      <td>0</td>\n",
       "      <td>2019-12-31 17:00:00</td>\n",
       "      <td>90206</td>\n",
       "      <td>first</td>\n",
       "      <td>66119</td>\n",
       "      <td>6</td>\n",
       "      <td>49.448755</td>\n",
       "      <td>71</td>\n",
       "      <td>Dürrenhof</td>\n",
       "      <td>4626.0</td>\n",
       "      <td>11.097747</td>\n",
       "      <td>False</td>\n",
       "    </tr>\n",
       "    <tr>\n",
       "      <th>2275088</th>\n",
       "      <td>2275088</td>\n",
       "      <td>True</td>\n",
       "      <td>0</td>\n",
       "      <td>2019-12-31 23:59:00</td>\n",
       "      <td>90206</td>\n",
       "      <td>last</td>\n",
       "      <td>66119</td>\n",
       "      <td>8</td>\n",
       "      <td>49.448755</td>\n",
       "      <td>71</td>\n",
       "      <td>Dürrenhof</td>\n",
       "      <td>4626.0</td>\n",
       "      <td>11.097747</td>\n",
       "      <td>False</td>\n",
       "    </tr>\n",
       "  </tbody>\n",
       "</table>\n",
       "<p>2275089 rows × 14 columns</p>\n",
       "</div>"
      ],
      "text/plain": [
       "         Unnamed: 0  p_spot  p_place_type             datetime  b_number  \\\n",
       "0                 0    True             0  2019-01-20 02:06:00     11281   \n",
       "1                 1    True             0  2019-01-20 14:16:00     11281   \n",
       "2                 2    True             0  2019-01-20 00:00:00     11169   \n",
       "3                 3    True             0  2019-01-20 01:55:00     11169   \n",
       "4                 4    True             0  2019-01-20 02:06:00     11169   \n",
       "...             ...     ...           ...                  ...       ...   \n",
       "2275084     2275084   False            12  2019-12-31 23:59:00     90483   \n",
       "2275085     2275085   False            12  2019-12-31 11:17:00     90057   \n",
       "2275086     2275086    True             0  2019-12-31 23:59:00     90057   \n",
       "2275087     2275087    True             0  2019-12-31 17:00:00     90206   \n",
       "2275088     2275088    True             0  2019-12-31 23:59:00     90206   \n",
       "\n",
       "          trip     p_uid  p_bikes      p_lat  b_bike_type  \\\n",
       "0        first   4774295        5  50.808852           15   \n",
       "1         last   4774295        4  50.808852           15   \n",
       "2        first   4774543        5  50.795224           15   \n",
       "3        start   4774543        5  50.795224           15   \n",
       "4          end   4774368        4  50.804522           15   \n",
       "...        ...       ...      ...        ...          ...   \n",
       "2275084   last  26506255        1  49.456960           71   \n",
       "2275085  first  26504052        0  49.456893           71   \n",
       "2275086   last     66103        4  49.457127           71   \n",
       "2275087  first     66119        6  49.448755           71   \n",
       "2275088   last     66119        8  49.448755           71   \n",
       "\n",
       "                                 p_name  p_number      p_lng  p_bike  \n",
       "0                 Biegenstraße/Cineplex    5155.0   8.773134   False  \n",
       "1                 Biegenstraße/Cineplex    5155.0   8.773134   False  \n",
       "2                            Südbahnhof    5173.0   8.763266   False  \n",
       "3                            Südbahnhof    5173.0   8.763266   False  \n",
       "4        Frankfurter Straße/Psychologie    5159.0   8.770358   False  \n",
       "...                                 ...       ...        ...     ...  \n",
       "2275084                      BIKE 90483       0.0  11.105922    True  \n",
       "2275085                      BIKE 90057       0.0  11.088171    True  \n",
       "2275086                   Rathenauplatz    4611.0  11.089604   False  \n",
       "2275087                       Dürrenhof    4626.0  11.097747   False  \n",
       "2275088                       Dürrenhof    4626.0  11.097747   False  \n",
       "\n",
       "[2275089 rows x 14 columns]"
      ]
     },
     "execution_count": 4,
     "metadata": {},
     "output_type": "execute_result"
    }
   ],
   "source": [
    "df = pd.read_csv(path)\n",
    "df"
   ]
  },
  {
   "cell_type": "markdown",
   "metadata": {},
   "source": [
    "## Kevin"
   ]
  },
  {
   "cell_type": "code",
   "execution_count": 6,
   "metadata": {},
   "outputs": [],
   "source": [
    "df_clean = df.drop(\"Unnamed: 0\", axis =1)"
   ]
  },
  {
   "cell_type": "code",
   "execution_count": 8,
   "metadata": {},
   "outputs": [
    {
     "data": {
      "text/html": [
       "<div>\n",
       "<style scoped>\n",
       "    .dataframe tbody tr th:only-of-type {\n",
       "        vertical-align: middle;\n",
       "    }\n",
       "\n",
       "    .dataframe tbody tr th {\n",
       "        vertical-align: top;\n",
       "    }\n",
       "\n",
       "    .dataframe thead th {\n",
       "        text-align: right;\n",
       "    }\n",
       "</style>\n",
       "<table border=\"1\" class=\"dataframe\">\n",
       "  <thead>\n",
       "    <tr style=\"text-align: right;\">\n",
       "      <th></th>\n",
       "      <th>p_place_type</th>\n",
       "      <th>b_number</th>\n",
       "      <th>p_uid</th>\n",
       "      <th>p_bikes</th>\n",
       "      <th>p_lat</th>\n",
       "      <th>b_bike_type</th>\n",
       "      <th>p_number</th>\n",
       "      <th>p_lng</th>\n",
       "    </tr>\n",
       "  </thead>\n",
       "  <tbody>\n",
       "    <tr>\n",
       "      <th>count</th>\n",
       "      <td>2.275089e+06</td>\n",
       "      <td>2.275089e+06</td>\n",
       "      <td>2.275089e+06</td>\n",
       "      <td>2.275089e+06</td>\n",
       "      <td>2.275089e+06</td>\n",
       "      <td>2.275089e+06</td>\n",
       "      <td>2.275067e+06</td>\n",
       "      <td>2.275089e+06</td>\n",
       "    </tr>\n",
       "    <tr>\n",
       "      <th>mean</th>\n",
       "      <td>6.323257e+00</td>\n",
       "      <td>7.216981e+04</td>\n",
       "      <td>1.324834e+07</td>\n",
       "      <td>3.130145e+00</td>\n",
       "      <td>8.168726e+01</td>\n",
       "      <td>5.035350e+01</td>\n",
       "      <td>2.324303e+03</td>\n",
       "      <td>1.054957e+01</td>\n",
       "    </tr>\n",
       "    <tr>\n",
       "      <th>std</th>\n",
       "      <td>5.991287e+00</td>\n",
       "      <td>3.321064e+04</td>\n",
       "      <td>1.024911e+07</td>\n",
       "      <td>3.437852e+00</td>\n",
       "      <td>1.605104e+04</td>\n",
       "      <td>2.848580e+01</td>\n",
       "      <td>2.657529e+03</td>\n",
       "      <td>9.691630e-01</td>\n",
       "    </tr>\n",
       "    <tr>\n",
       "      <th>min</th>\n",
       "      <td>0.000000e+00</td>\n",
       "      <td>1.107000e+04</td>\n",
       "      <td>6.609300e+04</td>\n",
       "      <td>0.000000e+00</td>\n",
       "      <td>-5.041531e+02</td>\n",
       "      <td>0.000000e+00</td>\n",
       "      <td>0.000000e+00</td>\n",
       "      <td>3.038746e+00</td>\n",
       "    </tr>\n",
       "    <tr>\n",
       "      <th>25%</th>\n",
       "      <td>0.000000e+00</td>\n",
       "      <td>9.001600e+04</td>\n",
       "      <td>4.774204e+06</td>\n",
       "      <td>1.000000e+00</td>\n",
       "      <td>4.944926e+01</td>\n",
       "      <td>1.500000e+01</td>\n",
       "      <td>0.000000e+00</td>\n",
       "      <td>1.103563e+01</td>\n",
       "    </tr>\n",
       "    <tr>\n",
       "      <th>50%</th>\n",
       "      <td>1.200000e+01</td>\n",
       "      <td>9.017300e+04</td>\n",
       "      <td>1.710877e+07</td>\n",
       "      <td>1.000000e+00</td>\n",
       "      <td>4.945570e+01</td>\n",
       "      <td>7.100000e+01</td>\n",
       "      <td>0.000000e+00</td>\n",
       "      <td>1.107058e+01</td>\n",
       "    </tr>\n",
       "    <tr>\n",
       "      <th>75%</th>\n",
       "      <td>1.200000e+01</td>\n",
       "      <td>9.033300e+04</td>\n",
       "      <td>2.292826e+07</td>\n",
       "      <td>5.000000e+00</td>\n",
       "      <td>4.947854e+01</td>\n",
       "      <td>7.100000e+01</td>\n",
       "      <td>4.657000e+03</td>\n",
       "      <td>1.108217e+01</td>\n",
       "    </tr>\n",
       "    <tr>\n",
       "      <th>max</th>\n",
       "      <td>1.200000e+01</td>\n",
       "      <td>9.999400e+04</td>\n",
       "      <td>2.652022e+07</td>\n",
       "      <td>4.800000e+01</td>\n",
       "      <td>8.084779e+06</td>\n",
       "      <td>7.100000e+01</td>\n",
       "      <td>4.770000e+04</td>\n",
       "      <td>1.428366e+01</td>\n",
       "    </tr>\n",
       "  </tbody>\n",
       "</table>\n",
       "</div>"
      ],
      "text/plain": [
       "       p_place_type      b_number         p_uid       p_bikes         p_lat  \\\n",
       "count  2.275089e+06  2.275089e+06  2.275089e+06  2.275089e+06  2.275089e+06   \n",
       "mean   6.323257e+00  7.216981e+04  1.324834e+07  3.130145e+00  8.168726e+01   \n",
       "std    5.991287e+00  3.321064e+04  1.024911e+07  3.437852e+00  1.605104e+04   \n",
       "min    0.000000e+00  1.107000e+04  6.609300e+04  0.000000e+00 -5.041531e+02   \n",
       "25%    0.000000e+00  9.001600e+04  4.774204e+06  1.000000e+00  4.944926e+01   \n",
       "50%    1.200000e+01  9.017300e+04  1.710877e+07  1.000000e+00  4.945570e+01   \n",
       "75%    1.200000e+01  9.033300e+04  2.292826e+07  5.000000e+00  4.947854e+01   \n",
       "max    1.200000e+01  9.999400e+04  2.652022e+07  4.800000e+01  8.084779e+06   \n",
       "\n",
       "        b_bike_type      p_number         p_lng  \n",
       "count  2.275089e+06  2.275067e+06  2.275089e+06  \n",
       "mean   5.035350e+01  2.324303e+03  1.054957e+01  \n",
       "std    2.848580e+01  2.657529e+03  9.691630e-01  \n",
       "min    0.000000e+00  0.000000e+00  3.038746e+00  \n",
       "25%    1.500000e+01  0.000000e+00  1.103563e+01  \n",
       "50%    7.100000e+01  0.000000e+00  1.107058e+01  \n",
       "75%    7.100000e+01  4.657000e+03  1.108217e+01  \n",
       "max    7.100000e+01  4.770000e+04  1.428366e+01  "
      ]
     },
     "execution_count": 8,
     "metadata": {},
     "output_type": "execute_result"
    }
   ],
   "source": [
    "df_clean.describe()"
   ]
  },
  {
   "cell_type": "code",
   "execution_count": 9,
   "metadata": {},
   "outputs": [
    {
     "name": "stdout",
     "output_type": "stream",
     "text": [
      "<class 'pandas.core.frame.DataFrame'>\n",
      "RangeIndex: 2275089 entries, 0 to 2275088\n",
      "Data columns (total 13 columns):\n",
      " #   Column        Dtype  \n",
      "---  ------        -----  \n",
      " 0   p_spot        bool   \n",
      " 1   p_place_type  int64  \n",
      " 2   datetime      object \n",
      " 3   b_number      int64  \n",
      " 4   trip          object \n",
      " 5   p_uid         int64  \n",
      " 6   p_bikes       int64  \n",
      " 7   p_lat         float64\n",
      " 8   b_bike_type   int64  \n",
      " 9   p_name        object \n",
      " 10  p_number      float64\n",
      " 11  p_lng         float64\n",
      " 12  p_bike        bool   \n",
      "dtypes: bool(2), float64(3), int64(5), object(3)\n",
      "memory usage: 195.3+ MB\n"
     ]
    }
   ],
   "source": [
    "df_clean.info()"
   ]
  },
  {
   "cell_type": "markdown",
   "metadata": {},
   "source": [
    "### Easy Column Meanings"
   ]
  },
  {
   "cell_type": "markdown",
   "metadata": {},
   "source": [
    "#### p_lat, p_lng, p_name"
   ]
  },
  {
   "cell_type": "code",
   "execution_count": 17,
   "metadata": {},
   "outputs": [],
   "source": [
    "#Create names that are more meaningful\n",
    "df_clean.rename({\"p_lat\" : \"Latitude\", \"p_lng\":\"Longitude\", \"p_name\":\"Place\"}, axis=1, inplace=True)"
   ]
  },
  {
   "cell_type": "markdown",
   "metadata": {},
   "source": [
    "### Get Null Values"
   ]
  },
  {
   "cell_type": "code",
   "execution_count": 27,
   "metadata": {},
   "outputs": [
    {
     "data": {
      "text/html": [
       "<div>\n",
       "<style scoped>\n",
       "    .dataframe tbody tr th:only-of-type {\n",
       "        vertical-align: middle;\n",
       "    }\n",
       "\n",
       "    .dataframe tbody tr th {\n",
       "        vertical-align: top;\n",
       "    }\n",
       "\n",
       "    .dataframe thead th {\n",
       "        text-align: right;\n",
       "    }\n",
       "</style>\n",
       "<table border=\"1\" class=\"dataframe\">\n",
       "  <thead>\n",
       "    <tr style=\"text-align: right;\">\n",
       "      <th></th>\n",
       "      <th>p_spot</th>\n",
       "      <th>p_place_type</th>\n",
       "      <th>datetime</th>\n",
       "      <th>b_number</th>\n",
       "      <th>trip</th>\n",
       "      <th>p_uid</th>\n",
       "      <th>p_bikes</th>\n",
       "      <th>Latitude</th>\n",
       "      <th>b_bike_type</th>\n",
       "      <th>Place</th>\n",
       "      <th>p_number</th>\n",
       "      <th>Longitude</th>\n",
       "      <th>p_bike</th>\n",
       "    </tr>\n",
       "  </thead>\n",
       "  <tbody>\n",
       "    <tr>\n",
       "      <th>count</th>\n",
       "      <td>2275089</td>\n",
       "      <td>2275089</td>\n",
       "      <td>2275089</td>\n",
       "      <td>2275089</td>\n",
       "      <td>2275089</td>\n",
       "      <td>2275089</td>\n",
       "      <td>2275089</td>\n",
       "      <td>2275089</td>\n",
       "      <td>2275089</td>\n",
       "      <td>2275089</td>\n",
       "      <td>2275089</td>\n",
       "      <td>2275089</td>\n",
       "      <td>2275089</td>\n",
       "    </tr>\n",
       "    <tr>\n",
       "      <th>unique</th>\n",
       "      <td>1</td>\n",
       "      <td>1</td>\n",
       "      <td>1</td>\n",
       "      <td>1</td>\n",
       "      <td>1</td>\n",
       "      <td>1</td>\n",
       "      <td>1</td>\n",
       "      <td>1</td>\n",
       "      <td>1</td>\n",
       "      <td>1</td>\n",
       "      <td>2</td>\n",
       "      <td>1</td>\n",
       "      <td>1</td>\n",
       "    </tr>\n",
       "    <tr>\n",
       "      <th>top</th>\n",
       "      <td>True</td>\n",
       "      <td>True</td>\n",
       "      <td>True</td>\n",
       "      <td>True</td>\n",
       "      <td>True</td>\n",
       "      <td>True</td>\n",
       "      <td>True</td>\n",
       "      <td>True</td>\n",
       "      <td>True</td>\n",
       "      <td>True</td>\n",
       "      <td>True</td>\n",
       "      <td>True</td>\n",
       "      <td>True</td>\n",
       "    </tr>\n",
       "    <tr>\n",
       "      <th>freq</th>\n",
       "      <td>2275089</td>\n",
       "      <td>2275089</td>\n",
       "      <td>2275089</td>\n",
       "      <td>2275089</td>\n",
       "      <td>2275089</td>\n",
       "      <td>2275089</td>\n",
       "      <td>2275089</td>\n",
       "      <td>2275089</td>\n",
       "      <td>2275089</td>\n",
       "      <td>2275089</td>\n",
       "      <td>2275067</td>\n",
       "      <td>2275089</td>\n",
       "      <td>2275089</td>\n",
       "    </tr>\n",
       "  </tbody>\n",
       "</table>\n",
       "</div>"
      ],
      "text/plain": [
       "         p_spot p_place_type datetime b_number     trip    p_uid  p_bikes  \\\n",
       "count   2275089      2275089  2275089  2275089  2275089  2275089  2275089   \n",
       "unique        1            1        1        1        1        1        1   \n",
       "top        True         True     True     True     True     True     True   \n",
       "freq    2275089      2275089  2275089  2275089  2275089  2275089  2275089   \n",
       "\n",
       "       Latitude b_bike_type    Place p_number Longitude   p_bike  \n",
       "count   2275089     2275089  2275089  2275089   2275089  2275089  \n",
       "unique        1           1        1        2         1        1  \n",
       "top        True        True     True     True      True     True  \n",
       "freq    2275089     2275089  2275089  2275067   2275089  2275089  "
      ]
     },
     "execution_count": 27,
     "metadata": {},
     "output_type": "execute_result"
    }
   ],
   "source": [
    "#shows that there are only NaN values in p_number\n",
    "df_clean.notnull().describe()"
   ]
  },
  {
   "cell_type": "code",
   "execution_count": 46,
   "metadata": {},
   "outputs": [
    {
     "name": "stdout",
     "output_type": "stream",
     "text": [
      "Number of NaN Values in p_number: 22 \n",
      "\n",
      "Head:\n"
     ]
    },
    {
     "data": {
      "text/html": [
       "<div>\n",
       "<style scoped>\n",
       "    .dataframe tbody tr th:only-of-type {\n",
       "        vertical-align: middle;\n",
       "    }\n",
       "\n",
       "    .dataframe tbody tr th {\n",
       "        vertical-align: top;\n",
       "    }\n",
       "\n",
       "    .dataframe thead th {\n",
       "        text-align: right;\n",
       "    }\n",
       "</style>\n",
       "<table border=\"1\" class=\"dataframe\">\n",
       "  <thead>\n",
       "    <tr style=\"text-align: right;\">\n",
       "      <th></th>\n",
       "      <th>p_spot</th>\n",
       "      <th>p_place_type</th>\n",
       "      <th>datetime</th>\n",
       "      <th>b_number</th>\n",
       "      <th>trip</th>\n",
       "      <th>p_uid</th>\n",
       "      <th>p_bikes</th>\n",
       "      <th>Latitude</th>\n",
       "      <th>b_bike_type</th>\n",
       "      <th>Place</th>\n",
       "      <th>p_number</th>\n",
       "      <th>Longitude</th>\n",
       "      <th>p_bike</th>\n",
       "    </tr>\n",
       "  </thead>\n",
       "  <tbody>\n",
       "    <tr>\n",
       "      <th>128323</th>\n",
       "      <td>False</td>\n",
       "      <td>12</td>\n",
       "      <td>2019-04-25 10:10:00</td>\n",
       "      <td>11197</td>\n",
       "      <td>start</td>\n",
       "      <td>14939713</td>\n",
       "      <td>1</td>\n",
       "      <td>50.806936</td>\n",
       "      <td>15</td>\n",
       "      <td>Universitätsstraße</td>\n",
       "      <td>NaN</td>\n",
       "      <td>8.767577</td>\n",
       "      <td>True</td>\n",
       "    </tr>\n",
       "    <tr>\n",
       "      <th>128526</th>\n",
       "      <td>False</td>\n",
       "      <td>12</td>\n",
       "      <td>2019-04-25 10:27:00</td>\n",
       "      <td>11194</td>\n",
       "      <td>end</td>\n",
       "      <td>14941097</td>\n",
       "      <td>1</td>\n",
       "      <td>50.808691</td>\n",
       "      <td>15</td>\n",
       "      <td>BIKE 11194</td>\n",
       "      <td>NaN</td>\n",
       "      <td>8.776421</td>\n",
       "      <td>True</td>\n",
       "    </tr>\n",
       "    <tr>\n",
       "      <th>128527</th>\n",
       "      <td>False</td>\n",
       "      <td>12</td>\n",
       "      <td>2019-04-25 10:48:00</td>\n",
       "      <td>11194</td>\n",
       "      <td>start</td>\n",
       "      <td>14941097</td>\n",
       "      <td>1</td>\n",
       "      <td>50.808691</td>\n",
       "      <td>15</td>\n",
       "      <td>BIKE 11194</td>\n",
       "      <td>NaN</td>\n",
       "      <td>8.776421</td>\n",
       "      <td>True</td>\n",
       "    </tr>\n",
       "    <tr>\n",
       "      <th>128579</th>\n",
       "      <td>False</td>\n",
       "      <td>12</td>\n",
       "      <td>2019-04-25 10:40:00</td>\n",
       "      <td>11212</td>\n",
       "      <td>start</td>\n",
       "      <td>14939859</td>\n",
       "      <td>1</td>\n",
       "      <td>50.808539</td>\n",
       "      <td>15</td>\n",
       "      <td>Erlenring 5</td>\n",
       "      <td>NaN</td>\n",
       "      <td>8.776701</td>\n",
       "      <td>True</td>\n",
       "    </tr>\n",
       "    <tr>\n",
       "      <th>128673</th>\n",
       "      <td>False</td>\n",
       "      <td>12</td>\n",
       "      <td>2019-04-25 10:06:00</td>\n",
       "      <td>11234</td>\n",
       "      <td>start</td>\n",
       "      <td>14939993</td>\n",
       "      <td>1</td>\n",
       "      <td>50.809670</td>\n",
       "      <td>15</td>\n",
       "      <td>BIKE 11234</td>\n",
       "      <td>NaN</td>\n",
       "      <td>8.778335</td>\n",
       "      <td>True</td>\n",
       "    </tr>\n",
       "  </tbody>\n",
       "</table>\n",
       "</div>"
      ],
      "text/plain": [
       "        p_spot  p_place_type             datetime  b_number   trip     p_uid  \\\n",
       "128323   False            12  2019-04-25 10:10:00     11197  start  14939713   \n",
       "128526   False            12  2019-04-25 10:27:00     11194    end  14941097   \n",
       "128527   False            12  2019-04-25 10:48:00     11194  start  14941097   \n",
       "128579   False            12  2019-04-25 10:40:00     11212  start  14939859   \n",
       "128673   False            12  2019-04-25 10:06:00     11234  start  14939993   \n",
       "\n",
       "        p_bikes   Latitude  b_bike_type               Place  p_number  \\\n",
       "128323        1  50.806936           15  Universitätsstraße       NaN   \n",
       "128526        1  50.808691           15          BIKE 11194       NaN   \n",
       "128527        1  50.808691           15          BIKE 11194       NaN   \n",
       "128579        1  50.808539           15         Erlenring 5       NaN   \n",
       "128673        1  50.809670           15          BIKE 11234       NaN   \n",
       "\n",
       "        Longitude  p_bike  \n",
       "128323   8.767577    True  \n",
       "128526   8.776421    True  \n",
       "128527   8.776421    True  \n",
       "128579   8.776701    True  \n",
       "128673   8.778335    True  "
      ]
     },
     "execution_count": 46,
     "metadata": {},
     "output_type": "execute_result"
    }
   ],
   "source": [
    "print(\"Number of NaN Values in p_number:\", df_clean[(df_clean[\"p_number\"].notnull()==False)][\"p_spot\"].count(), \"\\n\\nHead:\")\n",
    "df_clean[(df_clean[\"p_number\"].notnull()==False)].head()"
   ]
  },
  {
   "cell_type": "markdown",
   "metadata": {},
   "source": [
    "### Explore Column meanings"
   ]
  },
  {
   "cell_type": "markdown",
   "metadata": {},
   "source": [
    "#### p_spot"
   ]
  },
  {
   "cell_type": "code",
   "execution_count": 104,
   "metadata": {},
   "outputs": [
    {
     "name": "stdout",
     "output_type": "stream",
     "text": [
      "Hypothesis: p_spot could be a boolean which differentiates between a specific spot in Nuremberg or anywhere\n"
     ]
    },
    {
     "data": {
      "image/png": "[encoded data removed]",
      "text/plain": [
       "<Figure size 432x288 with 1 Axes>"
      ]
     },
     "metadata": {
      "needs_background": "light"
     },
     "output_type": "display_data"
    }
   ],
   "source": [
    "#number of p_spot values that are false/ true\n",
    "df_clean[\"p_spot\"].astype(int).hist()\n",
    "\n",
    "print(\"Hypothesis: p_spot could be a boolean which differentiates between a specific spot in Nuremberg or anywhere\")"
   ]
  },
  {
   "cell_type": "markdown",
   "metadata": {},
   "source": [
    "#### p_place_type"
   ]
  },
  {
   "cell_type": "code",
   "execution_count": 100,
   "metadata": {},
   "outputs": [
    {
     "name": "stdout",
     "output_type": "stream",
     "text": [
      "p_spot=True and p_place_type=0 are nearly the same amount. Same for p_spot=False and p_place_type=12\n"
     ]
    },
    {
     "data": {
      "image/png": "[encoded data removed]",
      "text/plain": [
       "<Figure size 432x288 with 1 Axes>"
      ]
     },
     "metadata": {
      "needs_background": "light"
     },
     "output_type": "display_data"
    }
   ],
   "source": [
    "#number of p_place_type values that are 0/12\n",
    "df_clean[\"p_place_type\"].hist()\n",
    "\n",
    "print(\"p_spot=True and p_place_type=0 are nearly the same amount. Same for p_spot=False and p_place_type=12\")"
   ]
  },
  {
   "cell_type": "markdown",
   "metadata": {},
   "source": [
    "#### datetime"
   ]
  },
  {
   "cell_type": "code",
   "execution_count": 191,
   "metadata": {
    "scrolled": false
   },
   "outputs": [
    {
     "name": "stdout",
     "output_type": "stream",
     "text": [
      "No data for July? Less data in first half of the year?\n",
      "Hypothesis: Did nextbike bought more bikes during the year?\n"
     ]
    },
    {
     "data": {
      "text/plain": [
       "<matplotlib.axes._subplots.AxesSubplot at 0x2a419e9be0>"
      ]
     },
     "execution_count": 191,
     "metadata": {},
     "output_type": "execute_result"
    },
    {
     "data": {
      "image/png": "[encoded data removed]",
      "text/plain": [
       "<Figure size 864x288 with 1 Axes>"
      ]
     },
     "metadata": {
      "needs_background": "light"
     },
     "output_type": "display_data"
    }
   ],
   "source": [
    "#Sort Date\n",
    "print(\"No data for July? Less data in first half of the year?\")\n",
    "print(\"Hypothesis: Did nextbike bought more bikes during the year?\")\n",
    "pd.to_datetime(df_clean[\"datetime\"]).dt.month.hist(figsize=(12, 4), bins=12)\n"
   ]
  },
  {
   "cell_type": "markdown",
   "metadata": {},
   "source": [
    "#### b_number"
   ]
  },
  {
   "cell_type": "code",
   "execution_count": 99,
   "metadata": {},
   "outputs": [
    {
     "name": "stdout",
     "output_type": "stream",
     "text": [
      "b_number is not the booking number, because there are only 837 different numbers.\n",
      "Therefore it could be the bike number. Then there would be 837 different bikes.\n"
     ]
    }
   ],
   "source": [
    "#number of unique b_numbers\n",
    "count_b_number=df_clean[\"b_number\"].unique().size\n",
    "print(\"b_number is not the booking number, because there are only\",count_b_number, \"different numbers.\")\n",
    "\n",
    "print(\"Therefore it could be the bike number. Then there would be\",count_b_number, \"different bikes.\")"
   ]
  },
  {
   "cell_type": "markdown",
   "metadata": {},
   "source": [
    "#### trip"
   ]
  },
  {
   "cell_type": "code",
   "execution_count": 130,
   "metadata": {},
   "outputs": [
    {
     "name": "stdout",
     "output_type": "stream",
     "text": [
      "Maybe first or last of the day? Take a look at the Datetime...\n"
     ]
    },
    {
     "data": {
      "image/png": "[encoded data removed]",
      "text/plain": [
       "<Figure size 432x288 with 1 Axes>"
      ]
     },
     "metadata": {
      "needs_background": "light"
     },
     "output_type": "display_data"
    }
   ],
   "source": [
    "#number of trips which are categoryzed in start/end/first/last\n",
    "\n",
    "df_clean[\"trip\"].hist()\n",
    "print(\"Maybe first or last of the day? Take a look at the Datetime...\")"
   ]
  },
  {
   "cell_type": "markdown",
   "metadata": {},
   "source": [
    "#### p_uid"
   ]
  },
  {
   "cell_type": "code",
   "execution_count": 162,
   "metadata": {},
   "outputs": [
    {
     "name": "stdout",
     "output_type": "stream",
     "text": [
      "Number of different places: 2252\n",
      "Could be the place id. Take a deeper look at place names and p_uid...\n",
      "Different p_uids: 158375\n"
     ]
    }
   ],
   "source": [
    "#number of unique p_uids\n",
    "count_unique_p_uid=df_clean[\"p_uid\"].unique().size\n",
    "print(\"Number of different places:\",df_clean[\"Place\"].unique().size)\n",
    "\n",
    "print(\"Could be the place id. Take a deeper look at place names and p_uid...\\nDifferent p_uids:\", count_unique_p_uid)"
   ]
  },
  {
   "cell_type": "markdown",
   "metadata": {},
   "source": [
    "#### p_bikes"
   ]
  },
  {
   "cell_type": "code",
   "execution_count": 178,
   "metadata": {
    "scrolled": true
   },
   "outputs": [
    {
     "name": "stdout",
     "output_type": "stream",
     "text": [
      "Seems as if p_bikes is the number of bikes at a place in the moment of the booking.\n",
      "\n",
      "           Count\n",
      "p_bikes         \n",
      "0           1421\n",
      "1        1271584\n",
      "2          95237\n",
      "3         103147\n",
      "4         111666\n",
      "5         400382\n",
      "6          54800\n",
      "7          49388\n",
      "8          43433\n",
      "9          31193\n",
      "10         24768\n",
      "11         17436\n",
      "12         12916\n",
      "13         10210\n",
      "14          8419\n",
      "15          8413\n",
      "16          5272\n",
      "17          3974\n",
      "18          3589\n",
      "19          3114\n",
      "20          2396\n",
      "21          2221\n",
      "22          2028\n",
      "23          1636\n",
      "24          1653\n",
      "25           947\n",
      "26           956\n",
      "27           802\n",
      "28           318\n",
      "29           414\n",
      "30           340\n",
      "31           346\n",
      "32           316\n",
      "33            71\n",
      "34            50\n",
      "35            62\n",
      "36            39\n",
      "37            23\n",
      "38            15\n",
      "39            16\n",
      "40             5\n",
      "41            10\n",
      "42            24\n",
      "43            15\n",
      "44             6\n",
      "45             6\n",
      "46             4\n",
      "47             6\n",
      "48             2\n"
     ]
    }
   ],
   "source": [
    "#Group p_bikes and count number of entries\n",
    "\n",
    "print(\"Seems as if p_bikes is the number of bikes at a place in the moment of the booking.\\n\")\n",
    "print(pd.DataFrame(df_clean.groupby(by=\"p_bikes\").count()[\"p_spot\"]).rename({\"p_spot\":\"Count\"}, axis=1))\n",
    "\n"
   ]
  },
  {
   "cell_type": "markdown",
   "metadata": {},
   "source": [
    "#### b_bike_type"
   ]
  },
  {
   "cell_type": "code",
   "execution_count": 158,
   "metadata": {},
   "outputs": [
    {
     "name": "stdout",
     "output_type": "stream",
     "text": [
      "Different bike types.\n"
     ]
    },
    {
     "data": {
      "text/plain": [
       "<matplotlib.axes._subplots.AxesSubplot at 0x2addb4d7c0>"
      ]
     },
     "execution_count": 158,
     "metadata": {},
     "output_type": "execute_result"
    },
    {
     "data": {
      "image/png": "[encoded data removed]",
      "text/plain": [
       "<Figure size 432x288 with 1 Axes>"
      ]
     },
     "metadata": {
      "needs_background": "light"
     },
     "output_type": "display_data"
    }
   ],
   "source": [
    "#number of bikes of different types\n",
    "print(\"Different bike types.\")\n",
    "df_clean[\"b_bike_type\"].hist()"
   ]
  },
  {
   "cell_type": "markdown",
   "metadata": {},
   "source": [
    "#### Place"
   ]
  },
  {
   "cell_type": "code",
   "execution_count": 168,
   "metadata": {},
   "outputs": [
    {
     "data": {
      "text/plain": [
       "array(['Biegenstraße/Cineplex', 'Südbahnhof',\n",
       "       'Frankfurter Straße/Psychologie', 'Wilhelmsplatz',\n",
       "       'Alte Kasseler Straße/Jägertunnel', 'Aquamar',\n",
       "       'Friedrich-Ebert-Straße/ Christian-Wolff-Häuser',\n",
       "       'Biegenstraße/Volkshochschule', 'Marbacher Weg/Pharmazie',\n",
       "       'Elisabeth-Blochmann-Platz'], dtype=object)"
      ]
     },
     "execution_count": 168,
     "metadata": {},
     "output_type": "execute_result"
    }
   ],
   "source": [
    "#first 10 unique place names\n",
    "\n",
    "df_clean[\"Place\"].unique()[0:10]"
   ]
  },
  {
   "cell_type": "markdown",
   "metadata": {},
   "source": [
    "#### p_number"
   ]
  },
  {
   "cell_type": "code",
   "execution_count": 187,
   "metadata": {},
   "outputs": [
    {
     "data": {
      "text/html": [
       "<div>\n",
       "<style scoped>\n",
       "    .dataframe tbody tr th:only-of-type {\n",
       "        vertical-align: middle;\n",
       "    }\n",
       "\n",
       "    .dataframe tbody tr th {\n",
       "        vertical-align: top;\n",
       "    }\n",
       "\n",
       "    .dataframe thead th {\n",
       "        text-align: right;\n",
       "    }\n",
       "</style>\n",
       "<table border=\"1\" class=\"dataframe\">\n",
       "  <thead>\n",
       "    <tr style=\"text-align: right;\">\n",
       "      <th></th>\n",
       "      <th>Count</th>\n",
       "    </tr>\n",
       "    <tr>\n",
       "      <th>p_number</th>\n",
       "      <th></th>\n",
       "    </tr>\n",
       "  </thead>\n",
       "  <tbody>\n",
       "    <tr>\n",
       "      <th>4692.0</th>\n",
       "      <td>30</td>\n",
       "    </tr>\n",
       "    <tr>\n",
       "      <th>4693.0</th>\n",
       "      <td>156</td>\n",
       "    </tr>\n",
       "    <tr>\n",
       "      <th>4684.0</th>\n",
       "      <td>294</td>\n",
       "    </tr>\n",
       "    <tr>\n",
       "      <th>4690.0</th>\n",
       "      <td>552</td>\n",
       "    </tr>\n",
       "    <tr>\n",
       "      <th>4681.0</th>\n",
       "      <td>561</td>\n",
       "    </tr>\n",
       "    <tr>\n",
       "      <th>...</th>\n",
       "      <td>...</td>\n",
       "    </tr>\n",
       "    <tr>\n",
       "      <th>5145.0</th>\n",
       "      <td>33912</td>\n",
       "    </tr>\n",
       "    <tr>\n",
       "      <th>5165.0</th>\n",
       "      <td>43550</td>\n",
       "    </tr>\n",
       "    <tr>\n",
       "      <th>5158.0</th>\n",
       "      <td>44458</td>\n",
       "    </tr>\n",
       "    <tr>\n",
       "      <th>4619.0</th>\n",
       "      <td>53109</td>\n",
       "    </tr>\n",
       "    <tr>\n",
       "      <th>0.0</th>\n",
       "      <td>1198826</td>\n",
       "    </tr>\n",
       "  </tbody>\n",
       "</table>\n",
       "<p>101 rows × 1 columns</p>\n",
       "</div>"
      ],
      "text/plain": [
       "            Count\n",
       "p_number         \n",
       "4692.0         30\n",
       "4693.0        156\n",
       "4684.0        294\n",
       "4690.0        552\n",
       "4681.0        561\n",
       "...           ...\n",
       "5145.0      33912\n",
       "5165.0      43550\n",
       "5158.0      44458\n",
       "4619.0      53109\n",
       "0.0       1198826\n",
       "\n",
       "[101 rows x 1 columns]"
      ]
     },
     "execution_count": 187,
     "metadata": {},
     "output_type": "execute_result"
    }
   ],
   "source": [
    "#Groupby p_number not sure what it is and then count how often p_number occurs\n",
    "pd.DataFrame(df_clean.groupby(by=\"p_number\").\n",
    "             count()[\"p_spot\"]).rename({\"p_spot\":\"Count\"}, \n",
    "                                       axis=1).sort_values(by=\"Count\")"
   ]
  },
  {
   "cell_type": "markdown",
   "metadata": {},
   "source": [
    "#### p_bike"
   ]
  },
  {
   "cell_type": "code",
   "execution_count": 190,
   "metadata": {},
   "outputs": [
    {
     "data": {
      "text/plain": [
       "<matplotlib.axes._subplots.AxesSubplot at 0x2a378b01f0>"
      ]
     },
     "execution_count": 190,
     "metadata": {},
     "output_type": "execute_result"
    },
    {
     "data": {
      "image/png": "[encoded data removed]",
      "text/plain": [
       "<Figure size 432x288 with 1 Axes>"
      ]
     },
     "metadata": {
      "needs_background": "light"
     },
     "output_type": "display_data"
    }
   ],
   "source": [
    "#number of p_bike True/ False\n",
    "df_clean[\"p_bike\"].astype(int).hist()\n",
    "\n",
    "#not sure what p_bike is."
   ]
  },
  {
   "cell_type": "code",
   "execution_count": null,
   "metadata": {},
   "outputs": [],
   "source": []
  }
 ],
 "metadata": {
  "kernelspec": {
   "display_name": "Python 3",
   "language": "python",
   "name": "python3"
  },
  "language_info": {
   "codemirror_mode": {
    "name": "ipython",
    "version": 3
   },
   "file_extension": ".py",
   "mimetype": "text/x-python",
   "name": "python",
   "nbconvert_exporter": "python",
   "pygments_lexer": "ipython3",
   "version": "3.8.2"
  }
 },
 "nbformat": 4,
 "nbformat_minor": 4
}
