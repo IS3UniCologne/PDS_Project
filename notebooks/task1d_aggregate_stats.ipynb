{
 "cells": [
  {
   "cell_type": "code",
   "execution_count": 2,
   "metadata": {},
   "outputs": [],
   "source": [
    "#Imports\n",
    "import os\n",
    "import pandas as pd"
   ]
  },
  {
   "cell_type": "code",
   "execution_count": 3,
   "metadata": {},
   "outputs": [
    {
     "name": "stdout",
     "output_type": "stream",
     "text": [
      "Read data...\n"
     ]
    },
    {
     "data": {
      "text/html": [
       "<div>\n",
       "<style scoped>\n",
       "    .dataframe tbody tr th:only-of-type {\n",
       "        vertical-align: middle;\n",
       "    }\n",
       "\n",
       "    .dataframe tbody tr th {\n",
       "        vertical-align: top;\n",
       "    }\n",
       "\n",
       "    .dataframe thead th {\n",
       "        text-align: right;\n",
       "    }\n",
       "</style>\n",
       "<table border=\"1\" class=\"dataframe\">\n",
       "  <thead>\n",
       "    <tr style=\"text-align: right;\">\n",
       "      <th></th>\n",
       "      <th>Unnamed: 0</th>\n",
       "      <th>Start Time</th>\n",
       "      <th>Bike Number</th>\n",
       "      <th>Latitude_start</th>\n",
       "      <th>Place_start</th>\n",
       "      <th>Longitude_start</th>\n",
       "      <th>End Time</th>\n",
       "      <th>Latitude_end</th>\n",
       "      <th>Place_end</th>\n",
       "      <th>Longitude_end</th>\n",
       "      <th>Weekend</th>\n",
       "      <th>Duration</th>\n",
       "      <th>inside</th>\n",
       "    </tr>\n",
       "  </thead>\n",
       "  <tbody>\n",
       "    <tr>\n",
       "      <th>0</th>\n",
       "      <td>0</td>\n",
       "      <td>2019-06-29 08:32:00</td>\n",
       "      <td>11070</td>\n",
       "      <td>50.659925</td>\n",
       "      <td>BIKE 11070</td>\n",
       "      <td>8.734431</td>\n",
       "      <td>2019-06-29 08:35:00</td>\n",
       "      <td>50.659925</td>\n",
       "      <td>BIKE 11070</td>\n",
       "      <td>8.734431</td>\n",
       "      <td>True</td>\n",
       "      <td>3.0</td>\n",
       "      <td>False</td>\n",
       "    </tr>\n",
       "    <tr>\n",
       "      <th>1</th>\n",
       "      <td>1</td>\n",
       "      <td>2019-06-30 08:34:00</td>\n",
       "      <td>11070</td>\n",
       "      <td>50.659958</td>\n",
       "      <td>BIKE 11070</td>\n",
       "      <td>8.734533</td>\n",
       "      <td>2019-06-30 08:37:00</td>\n",
       "      <td>50.659958</td>\n",
       "      <td>BIKE 11070</td>\n",
       "      <td>8.734533</td>\n",
       "      <td>True</td>\n",
       "      <td>3.0</td>\n",
       "      <td>False</td>\n",
       "    </tr>\n",
       "    <tr>\n",
       "      <th>2</th>\n",
       "      <td>2</td>\n",
       "      <td>2019-08-13 17:43:00</td>\n",
       "      <td>11070</td>\n",
       "      <td>50.790362</td>\n",
       "      <td>Stadtbüro</td>\n",
       "      <td>8.766947</td>\n",
       "      <td>2019-08-13 17:59:00</td>\n",
       "      <td>50.778370</td>\n",
       "      <td>Cappel August-Bebel-Platz</td>\n",
       "      <td>8.767953</td>\n",
       "      <td>False</td>\n",
       "      <td>16.0</td>\n",
       "      <td>False</td>\n",
       "    </tr>\n",
       "    <tr>\n",
       "      <th>3</th>\n",
       "      <td>3</td>\n",
       "      <td>2019-08-13 20:03:00</td>\n",
       "      <td>11070</td>\n",
       "      <td>50.778370</td>\n",
       "      <td>Cappel August-Bebel-Platz</td>\n",
       "      <td>8.767953</td>\n",
       "      <td>2019-08-13 20:11:00</td>\n",
       "      <td>50.778370</td>\n",
       "      <td>Cappel August-Bebel-Platz</td>\n",
       "      <td>8.767953</td>\n",
       "      <td>False</td>\n",
       "      <td>8.0</td>\n",
       "      <td>False</td>\n",
       "    </tr>\n",
       "    <tr>\n",
       "      <th>4</th>\n",
       "      <td>4</td>\n",
       "      <td>2019-08-13 23:04:00</td>\n",
       "      <td>11070</td>\n",
       "      <td>50.778370</td>\n",
       "      <td>Cappel August-Bebel-Platz</td>\n",
       "      <td>8.767953</td>\n",
       "      <td>2019-08-13 23:11:00</td>\n",
       "      <td>50.778370</td>\n",
       "      <td>Cappel August-Bebel-Platz</td>\n",
       "      <td>8.767953</td>\n",
       "      <td>False</td>\n",
       "      <td>7.0</td>\n",
       "      <td>False</td>\n",
       "    </tr>\n",
       "    <tr>\n",
       "      <th>...</th>\n",
       "      <td>...</td>\n",
       "      <td>...</td>\n",
       "      <td>...</td>\n",
       "      <td>...</td>\n",
       "      <td>...</td>\n",
       "      <td>...</td>\n",
       "      <td>...</td>\n",
       "      <td>...</td>\n",
       "      <td>...</td>\n",
       "      <td>...</td>\n",
       "      <td>...</td>\n",
       "      <td>...</td>\n",
       "      <td>...</td>\n",
       "    </tr>\n",
       "    <tr>\n",
       "      <th>407573</th>\n",
       "      <td>407573</td>\n",
       "      <td>2019-08-07 15:06:00</td>\n",
       "      <td>91202</td>\n",
       "      <td>50.576662</td>\n",
       "      <td>BIKE 91202</td>\n",
       "      <td>8.692280</td>\n",
       "      <td>2019-08-07 15:14:00</td>\n",
       "      <td>50.573698</td>\n",
       "      <td>BIKE 91202</td>\n",
       "      <td>8.698214</td>\n",
       "      <td>False</td>\n",
       "      <td>8.0</td>\n",
       "      <td>False</td>\n",
       "    </tr>\n",
       "    <tr>\n",
       "      <th>407574</th>\n",
       "      <td>407574</td>\n",
       "      <td>2019-08-07 15:44:00</td>\n",
       "      <td>91202</td>\n",
       "      <td>50.573671</td>\n",
       "      <td>BIKE 91202</td>\n",
       "      <td>8.698499</td>\n",
       "      <td>2019-08-07 15:51:00</td>\n",
       "      <td>50.573671</td>\n",
       "      <td>BIKE 91202</td>\n",
       "      <td>8.698499</td>\n",
       "      <td>False</td>\n",
       "      <td>7.0</td>\n",
       "      <td>False</td>\n",
       "    </tr>\n",
       "    <tr>\n",
       "      <th>407575</th>\n",
       "      <td>407575</td>\n",
       "      <td>2019-08-08 11:11:00</td>\n",
       "      <td>91202</td>\n",
       "      <td>50.573716</td>\n",
       "      <td>BIKE 91202</td>\n",
       "      <td>8.697958</td>\n",
       "      <td>2019-08-08 11:13:00</td>\n",
       "      <td>50.573716</td>\n",
       "      <td>BIKE 91202</td>\n",
       "      <td>8.697958</td>\n",
       "      <td>False</td>\n",
       "      <td>2.0</td>\n",
       "      <td>False</td>\n",
       "    </tr>\n",
       "    <tr>\n",
       "      <th>407576</th>\n",
       "      <td>407576</td>\n",
       "      <td>2019-08-08 22:29:00</td>\n",
       "      <td>91202</td>\n",
       "      <td>50.573764</td>\n",
       "      <td>BIKE 91202</td>\n",
       "      <td>8.698237</td>\n",
       "      <td>2019-08-08 22:31:00</td>\n",
       "      <td>50.573764</td>\n",
       "      <td>BIKE 91202</td>\n",
       "      <td>8.698237</td>\n",
       "      <td>False</td>\n",
       "      <td>2.0</td>\n",
       "      <td>False</td>\n",
       "    </tr>\n",
       "    <tr>\n",
       "      <th>407577</th>\n",
       "      <td>407577</td>\n",
       "      <td>2019-08-09 03:50:00</td>\n",
       "      <td>91202</td>\n",
       "      <td>50.573529</td>\n",
       "      <td>BIKE 91202</td>\n",
       "      <td>8.698483</td>\n",
       "      <td>2019-08-09 03:55:00</td>\n",
       "      <td>50.573529</td>\n",
       "      <td>BIKE 91202</td>\n",
       "      <td>8.698483</td>\n",
       "      <td>False</td>\n",
       "      <td>5.0</td>\n",
       "      <td>False</td>\n",
       "    </tr>\n",
       "  </tbody>\n",
       "</table>\n",
       "<p>407578 rows × 13 columns</p>\n",
       "</div>"
      ],
      "text/plain": [
       "        Unnamed: 0           Start Time  Bike Number  Latitude_start  \\\n",
       "0                0  2019-06-29 08:32:00        11070       50.659925   \n",
       "1                1  2019-06-30 08:34:00        11070       50.659958   \n",
       "2                2  2019-08-13 17:43:00        11070       50.790362   \n",
       "3                3  2019-08-13 20:03:00        11070       50.778370   \n",
       "4                4  2019-08-13 23:04:00        11070       50.778370   \n",
       "...            ...                  ...          ...             ...   \n",
       "407573      407573  2019-08-07 15:06:00        91202       50.576662   \n",
       "407574      407574  2019-08-07 15:44:00        91202       50.573671   \n",
       "407575      407575  2019-08-08 11:11:00        91202       50.573716   \n",
       "407576      407576  2019-08-08 22:29:00        91202       50.573764   \n",
       "407577      407577  2019-08-09 03:50:00        91202       50.573529   \n",
       "\n",
       "                       Place_start  Longitude_start             End Time  \\\n",
       "0                       BIKE 11070         8.734431  2019-06-29 08:35:00   \n",
       "1                       BIKE 11070         8.734533  2019-06-30 08:37:00   \n",
       "2                        Stadtbüro         8.766947  2019-08-13 17:59:00   \n",
       "3       Cappel August-Bebel-Platz          8.767953  2019-08-13 20:11:00   \n",
       "4       Cappel August-Bebel-Platz          8.767953  2019-08-13 23:11:00   \n",
       "...                            ...              ...                  ...   \n",
       "407573                  BIKE 91202         8.692280  2019-08-07 15:14:00   \n",
       "407574                  BIKE 91202         8.698499  2019-08-07 15:51:00   \n",
       "407575                  BIKE 91202         8.697958  2019-08-08 11:13:00   \n",
       "407576                  BIKE 91202         8.698237  2019-08-08 22:31:00   \n",
       "407577                  BIKE 91202         8.698483  2019-08-09 03:55:00   \n",
       "\n",
       "        Latitude_end                   Place_end  Longitude_end  Weekend  \\\n",
       "0          50.659925                  BIKE 11070       8.734431     True   \n",
       "1          50.659958                  BIKE 11070       8.734533     True   \n",
       "2          50.778370  Cappel August-Bebel-Platz        8.767953    False   \n",
       "3          50.778370  Cappel August-Bebel-Platz        8.767953    False   \n",
       "4          50.778370  Cappel August-Bebel-Platz        8.767953    False   \n",
       "...              ...                         ...            ...      ...   \n",
       "407573     50.573698                  BIKE 91202       8.698214    False   \n",
       "407574     50.573671                  BIKE 91202       8.698499    False   \n",
       "407575     50.573716                  BIKE 91202       8.697958    False   \n",
       "407576     50.573764                  BIKE 91202       8.698237    False   \n",
       "407577     50.573529                  BIKE 91202       8.698483    False   \n",
       "\n",
       "        Duration  inside  \n",
       "0            3.0   False  \n",
       "1            3.0   False  \n",
       "2           16.0   False  \n",
       "3            8.0   False  \n",
       "4            7.0   False  \n",
       "...          ...     ...  \n",
       "407573       8.0   False  \n",
       "407574       7.0   False  \n",
       "407575       2.0   False  \n",
       "407576       2.0   False  \n",
       "407577       5.0   False  \n",
       "\n",
       "[407578 rows x 13 columns]"
      ]
     },
     "execution_count": 3,
     "metadata": {},
     "output_type": "execute_result"
    }
   ],
   "source": [
    "#Get Data\n",
    "print(\"Read data...\")\n",
    "path = os.path.join(os.path.join(os.getcwd(), \"../nextbike/data\"), \"output/Trips.csv\")\n",
    "df = pd.read_csv(path)\n",
    "df"
   ]
  },
  {
   "cell_type": "code",
   "execution_count": 4,
   "metadata": {},
   "outputs": [
    {
     "data": {
      "text/plain": [
       "Index(['Unnamed: 0', 'Start Time', 'Bike Number', 'Latitude_start',\n",
       "       'Place_start', 'Longitude_start', 'End Time', 'Latitude_end',\n",
       "       'Place_end', 'Longitude_end', 'Weekend', 'Duration', 'inside'],\n",
       "      dtype='object')"
      ]
     },
     "execution_count": 4,
     "metadata": {},
     "output_type": "execute_result"
    }
   ],
   "source": [
    "df.columns"
   ]
  },
  {
   "cell_type": "code",
   "execution_count": 5,
   "metadata": {},
   "outputs": [
    {
     "data": {
      "text/html": [
       "<div>\n",
       "<style scoped>\n",
       "    .dataframe tbody tr th:only-of-type {\n",
       "        vertical-align: middle;\n",
       "    }\n",
       "\n",
       "    .dataframe tbody tr th {\n",
       "        vertical-align: top;\n",
       "    }\n",
       "\n",
       "    .dataframe thead th {\n",
       "        text-align: right;\n",
       "    }\n",
       "</style>\n",
       "<table border=\"1\" class=\"dataframe\">\n",
       "  <thead>\n",
       "    <tr style=\"text-align: right;\">\n",
       "      <th></th>\n",
       "      <th>Start Time</th>\n",
       "      <th>Bike Number</th>\n",
       "      <th>Latitude_start</th>\n",
       "      <th>Place_start</th>\n",
       "      <th>Longitude_start</th>\n",
       "      <th>End Time</th>\n",
       "      <th>Latitude_end</th>\n",
       "      <th>Place_end</th>\n",
       "      <th>Longitude_end</th>\n",
       "      <th>Weekend</th>\n",
       "      <th>Duration</th>\n",
       "      <th>inside</th>\n",
       "    </tr>\n",
       "  </thead>\n",
       "  <tbody>\n",
       "    <tr>\n",
       "      <th>0</th>\n",
       "      <td>2019-06-29 08:32:00</td>\n",
       "      <td>11070</td>\n",
       "      <td>50.659925</td>\n",
       "      <td>BIKE 11070</td>\n",
       "      <td>8.734431</td>\n",
       "      <td>2019-06-29 08:35:00</td>\n",
       "      <td>50.659925</td>\n",
       "      <td>BIKE 11070</td>\n",
       "      <td>8.734431</td>\n",
       "      <td>True</td>\n",
       "      <td>3.0</td>\n",
       "      <td>False</td>\n",
       "    </tr>\n",
       "    <tr>\n",
       "      <th>1</th>\n",
       "      <td>2019-06-30 08:34:00</td>\n",
       "      <td>11070</td>\n",
       "      <td>50.659958</td>\n",
       "      <td>BIKE 11070</td>\n",
       "      <td>8.734533</td>\n",
       "      <td>2019-06-30 08:37:00</td>\n",
       "      <td>50.659958</td>\n",
       "      <td>BIKE 11070</td>\n",
       "      <td>8.734533</td>\n",
       "      <td>True</td>\n",
       "      <td>3.0</td>\n",
       "      <td>False</td>\n",
       "    </tr>\n",
       "    <tr>\n",
       "      <th>2</th>\n",
       "      <td>2019-08-13 17:43:00</td>\n",
       "      <td>11070</td>\n",
       "      <td>50.790362</td>\n",
       "      <td>Stadtbüro</td>\n",
       "      <td>8.766947</td>\n",
       "      <td>2019-08-13 17:59:00</td>\n",
       "      <td>50.778370</td>\n",
       "      <td>Cappel August-Bebel-Platz</td>\n",
       "      <td>8.767953</td>\n",
       "      <td>False</td>\n",
       "      <td>16.0</td>\n",
       "      <td>False</td>\n",
       "    </tr>\n",
       "    <tr>\n",
       "      <th>3</th>\n",
       "      <td>2019-08-13 20:03:00</td>\n",
       "      <td>11070</td>\n",
       "      <td>50.778370</td>\n",
       "      <td>Cappel August-Bebel-Platz</td>\n",
       "      <td>8.767953</td>\n",
       "      <td>2019-08-13 20:11:00</td>\n",
       "      <td>50.778370</td>\n",
       "      <td>Cappel August-Bebel-Platz</td>\n",
       "      <td>8.767953</td>\n",
       "      <td>False</td>\n",
       "      <td>8.0</td>\n",
       "      <td>False</td>\n",
       "    </tr>\n",
       "    <tr>\n",
       "      <th>4</th>\n",
       "      <td>2019-08-13 23:04:00</td>\n",
       "      <td>11070</td>\n",
       "      <td>50.778370</td>\n",
       "      <td>Cappel August-Bebel-Platz</td>\n",
       "      <td>8.767953</td>\n",
       "      <td>2019-08-13 23:11:00</td>\n",
       "      <td>50.778370</td>\n",
       "      <td>Cappel August-Bebel-Platz</td>\n",
       "      <td>8.767953</td>\n",
       "      <td>False</td>\n",
       "      <td>7.0</td>\n",
       "      <td>False</td>\n",
       "    </tr>\n",
       "    <tr>\n",
       "      <th>...</th>\n",
       "      <td>...</td>\n",
       "      <td>...</td>\n",
       "      <td>...</td>\n",
       "      <td>...</td>\n",
       "      <td>...</td>\n",
       "      <td>...</td>\n",
       "      <td>...</td>\n",
       "      <td>...</td>\n",
       "      <td>...</td>\n",
       "      <td>...</td>\n",
       "      <td>...</td>\n",
       "      <td>...</td>\n",
       "    </tr>\n",
       "    <tr>\n",
       "      <th>407573</th>\n",
       "      <td>2019-08-07 15:06:00</td>\n",
       "      <td>91202</td>\n",
       "      <td>50.576662</td>\n",
       "      <td>BIKE 91202</td>\n",
       "      <td>8.692280</td>\n",
       "      <td>2019-08-07 15:14:00</td>\n",
       "      <td>50.573698</td>\n",
       "      <td>BIKE 91202</td>\n",
       "      <td>8.698214</td>\n",
       "      <td>False</td>\n",
       "      <td>8.0</td>\n",
       "      <td>False</td>\n",
       "    </tr>\n",
       "    <tr>\n",
       "      <th>407574</th>\n",
       "      <td>2019-08-07 15:44:00</td>\n",
       "      <td>91202</td>\n",
       "      <td>50.573671</td>\n",
       "      <td>BIKE 91202</td>\n",
       "      <td>8.698499</td>\n",
       "      <td>2019-08-07 15:51:00</td>\n",
       "      <td>50.573671</td>\n",
       "      <td>BIKE 91202</td>\n",
       "      <td>8.698499</td>\n",
       "      <td>False</td>\n",
       "      <td>7.0</td>\n",
       "      <td>False</td>\n",
       "    </tr>\n",
       "    <tr>\n",
       "      <th>407575</th>\n",
       "      <td>2019-08-08 11:11:00</td>\n",
       "      <td>91202</td>\n",
       "      <td>50.573716</td>\n",
       "      <td>BIKE 91202</td>\n",
       "      <td>8.697958</td>\n",
       "      <td>2019-08-08 11:13:00</td>\n",
       "      <td>50.573716</td>\n",
       "      <td>BIKE 91202</td>\n",
       "      <td>8.697958</td>\n",
       "      <td>False</td>\n",
       "      <td>2.0</td>\n",
       "      <td>False</td>\n",
       "    </tr>\n",
       "    <tr>\n",
       "      <th>407576</th>\n",
       "      <td>2019-08-08 22:29:00</td>\n",
       "      <td>91202</td>\n",
       "      <td>50.573764</td>\n",
       "      <td>BIKE 91202</td>\n",
       "      <td>8.698237</td>\n",
       "      <td>2019-08-08 22:31:00</td>\n",
       "      <td>50.573764</td>\n",
       "      <td>BIKE 91202</td>\n",
       "      <td>8.698237</td>\n",
       "      <td>False</td>\n",
       "      <td>2.0</td>\n",
       "      <td>False</td>\n",
       "    </tr>\n",
       "    <tr>\n",
       "      <th>407577</th>\n",
       "      <td>2019-08-09 03:50:00</td>\n",
       "      <td>91202</td>\n",
       "      <td>50.573529</td>\n",
       "      <td>BIKE 91202</td>\n",
       "      <td>8.698483</td>\n",
       "      <td>2019-08-09 03:55:00</td>\n",
       "      <td>50.573529</td>\n",
       "      <td>BIKE 91202</td>\n",
       "      <td>8.698483</td>\n",
       "      <td>False</td>\n",
       "      <td>5.0</td>\n",
       "      <td>False</td>\n",
       "    </tr>\n",
       "  </tbody>\n",
       "</table>\n",
       "<p>407578 rows × 12 columns</p>\n",
       "</div>"
      ],
      "text/plain": [
       "                 Start Time  Bike Number  Latitude_start  \\\n",
       "0       2019-06-29 08:32:00        11070       50.659925   \n",
       "1       2019-06-30 08:34:00        11070       50.659958   \n",
       "2       2019-08-13 17:43:00        11070       50.790362   \n",
       "3       2019-08-13 20:03:00        11070       50.778370   \n",
       "4       2019-08-13 23:04:00        11070       50.778370   \n",
       "...                     ...          ...             ...   \n",
       "407573  2019-08-07 15:06:00        91202       50.576662   \n",
       "407574  2019-08-07 15:44:00        91202       50.573671   \n",
       "407575  2019-08-08 11:11:00        91202       50.573716   \n",
       "407576  2019-08-08 22:29:00        91202       50.573764   \n",
       "407577  2019-08-09 03:50:00        91202       50.573529   \n",
       "\n",
       "                       Place_start  Longitude_start             End Time  \\\n",
       "0                       BIKE 11070         8.734431  2019-06-29 08:35:00   \n",
       "1                       BIKE 11070         8.734533  2019-06-30 08:37:00   \n",
       "2                        Stadtbüro         8.766947  2019-08-13 17:59:00   \n",
       "3       Cappel August-Bebel-Platz          8.767953  2019-08-13 20:11:00   \n",
       "4       Cappel August-Bebel-Platz          8.767953  2019-08-13 23:11:00   \n",
       "...                            ...              ...                  ...   \n",
       "407573                  BIKE 91202         8.692280  2019-08-07 15:14:00   \n",
       "407574                  BIKE 91202         8.698499  2019-08-07 15:51:00   \n",
       "407575                  BIKE 91202         8.697958  2019-08-08 11:13:00   \n",
       "407576                  BIKE 91202         8.698237  2019-08-08 22:31:00   \n",
       "407577                  BIKE 91202         8.698483  2019-08-09 03:55:00   \n",
       "\n",
       "        Latitude_end                   Place_end  Longitude_end  Weekend  \\\n",
       "0          50.659925                  BIKE 11070       8.734431     True   \n",
       "1          50.659958                  BIKE 11070       8.734533     True   \n",
       "2          50.778370  Cappel August-Bebel-Platz        8.767953    False   \n",
       "3          50.778370  Cappel August-Bebel-Platz        8.767953    False   \n",
       "4          50.778370  Cappel August-Bebel-Platz        8.767953    False   \n",
       "...              ...                         ...            ...      ...   \n",
       "407573     50.573698                  BIKE 91202       8.698214    False   \n",
       "407574     50.573671                  BIKE 91202       8.698499    False   \n",
       "407575     50.573716                  BIKE 91202       8.697958    False   \n",
       "407576     50.573764                  BIKE 91202       8.698237    False   \n",
       "407577     50.573529                  BIKE 91202       8.698483    False   \n",
       "\n",
       "        Duration  inside  \n",
       "0            3.0   False  \n",
       "1            3.0   False  \n",
       "2           16.0   False  \n",
       "3            8.0   False  \n",
       "4            7.0   False  \n",
       "...          ...     ...  \n",
       "407573       8.0   False  \n",
       "407574       7.0   False  \n",
       "407575       2.0   False  \n",
       "407576       2.0   False  \n",
       "407577       5.0   False  \n",
       "\n",
       "[407578 rows x 12 columns]"
      ]
     },
     "execution_count": 5,
     "metadata": {},
     "output_type": "execute_result"
    }
   ],
   "source": [
    "df.drop('Unnamed: 0', axis=1, inplace=True)\n",
    "df"
   ]
  },
  {
   "cell_type": "markdown",
   "metadata": {},
   "source": [
    "# Aggregation Statistics\n",
    "## 1. Mean\n",
    "### 1.a. With pandas"
   ]
  },
  {
   "cell_type": "code",
   "execution_count": 6,
   "metadata": {},
   "outputs": [
    {
     "data": {
      "text/plain": [
       "26.185925148069817"
      ]
     },
     "execution_count": 6,
     "metadata": {},
     "output_type": "execute_result"
    }
   ],
   "source": [
    "mean = df['Duration'].mean()\n",
    "mean"
   ]
  },
  {
   "cell_type": "markdown",
   "metadata": {},
   "source": [
    "### 1.b. With values as numpy array"
   ]
  },
  {
   "cell_type": "code",
   "execution_count": 7,
   "metadata": {},
   "outputs": [
    {
     "data": {
      "text/plain": [
       "26.185925148069817"
      ]
     },
     "execution_count": 7,
     "metadata": {},
     "output_type": "execute_result"
    }
   ],
   "source": [
    "mean_values = df['Duration'].values.mean()\n",
    "mean_values"
   ]
  },
  {
   "cell_type": "markdown",
   "metadata": {},
   "source": [
    "## 2. Standard deviation\n",
    "### 2.a. With pandas"
   ]
  },
  {
   "cell_type": "code",
   "execution_count": 8,
   "metadata": {},
   "outputs": [
    {
     "data": {
      "text/plain": [
       "68.25940938417361"
      ]
     },
     "execution_count": 8,
     "metadata": {},
     "output_type": "execute_result"
    }
   ],
   "source": [
    "deviation = df['Duration'].std()\n",
    "deviation"
   ]
  },
  {
   "cell_type": "markdown",
   "metadata": {},
   "source": [
    "### 2.b. With values as numpy array"
   ]
  },
  {
   "cell_type": "code",
   "execution_count": 9,
   "metadata": {},
   "outputs": [
    {
     "data": {
      "text/plain": [
       "68.25932564627405"
      ]
     },
     "execution_count": 9,
     "metadata": {},
     "output_type": "execute_result"
    }
   ],
   "source": [
    "deviation_values = df['Duration'].values.std()\n",
    "deviation_values"
   ]
  },
  {
   "cell_type": "code",
   "execution_count": 10,
   "metadata": {},
   "outputs": [
    {
     "data": {
      "text/plain": [
       "{'mean': 26.185925148069817, 'std': 68.25940938417361}"
      ]
     },
     "execution_count": 10,
     "metadata": {},
     "output_type": "execute_result"
    }
   ],
   "source": [
    "aggr_stats = {\n",
    "    \"mean\": mean,\n",
    "    \"std\": deviation\n",
    "}\n",
    "aggr_stats"
   ]
  },
  {
   "cell_type": "code",
   "execution_count": 12,
   "metadata": {},
   "outputs": [
    {
     "data": {
      "text/plain": [
       "23.45"
      ]
     },
     "execution_count": 12,
     "metadata": {},
     "output_type": "execute_result"
    }
   ],
   "source": [
    "df['Duration'].max() / 60"
   ]
  },
  {
   "cell_type": "code",
   "execution_count": 21,
   "metadata": {},
   "outputs": [
    {
     "data": {
      "text/plain": [
       "407578"
      ]
     },
     "execution_count": 21,
     "metadata": {},
     "output_type": "execute_result"
    }
   ],
   "source": [
    "len(df['Duration'])"
   ]
  },
  {
   "cell_type": "code",
   "execution_count": 13,
   "metadata": {},
   "outputs": [
    {
     "data": {
      "text/plain": [
       "<matplotlib.axes._subplots.AxesSubplot at 0x1161ac3d0>"
      ]
     },
     "execution_count": 13,
     "metadata": {},
     "output_type": "execute_result"
    },
    {
     "data": {
      "image/png": "[encoded data removed]",
      "text/plain": [
       "<Figure size 432x288 with 1 Axes>"
      ]
     },
     "metadata": {
      "needs_background": "light"
     },
     "output_type": "display_data"
    }
   ],
   "source": [
    "df['Duration'].hist()"
   ]
  },
  {
   "cell_type": "code",
   "execution_count": 14,
   "metadata": {},
   "outputs": [],
   "source": [
    "df_most = df[df['Duration'] < 180]"
   ]
  },
  {
   "cell_type": "code",
   "execution_count": 16,
   "metadata": {},
   "outputs": [
    {
     "data": {
      "text/plain": [
       "<matplotlib.axes._subplots.AxesSubplot at 0x11a363410>"
      ]
     },
     "execution_count": 16,
     "metadata": {},
     "output_type": "execute_result"
    },
    {
     "data": {
      "image/png": "[encoded data removed]",
      "text/plain": [
       "<Figure size 432x288 with 1 Axes>"
      ]
     },
     "metadata": {
      "needs_background": "light"
     },
     "output_type": "display_data"
    }
   ],
   "source": [
    "df_most['Duration'].hist()"
   ]
  },
  {
   "cell_type": "code",
   "execution_count": 20,
   "metadata": {},
   "outputs": [
    {
     "data": {
      "text/plain": [
       "394999"
      ]
     },
     "execution_count": 20,
     "metadata": {},
     "output_type": "execute_result"
    }
   ],
   "source": [
    "len(df_most['Duration'])"
   ]
  },
  {
   "cell_type": "code",
   "execution_count": 22,
   "metadata": {},
   "outputs": [
    {
     "data": {
      "text/plain": [
       "12579"
      ]
     },
     "execution_count": 22,
     "metadata": {},
     "output_type": "execute_result"
    }
   ],
   "source": [
    "len(df['Duration']) - len(df_most['Duration'])"
   ]
  },
  {
   "cell_type": "code",
   "execution_count": 23,
   "metadata": {},
   "outputs": [
    {
     "data": {
      "text/plain": [
       "2.0000000000000004"
      ]
     },
     "execution_count": 23,
     "metadata": {},
     "output_type": "execute_result"
    }
   ],
   "source": [
    "df['Duration'].min()"
   ]
  },
  {
   "cell_type": "code",
   "execution_count": 24,
   "metadata": {},
   "outputs": [
    {
     "data": {
      "text/plain": [
       "0.0308628041749064"
      ]
     },
     "execution_count": 24,
     "metadata": {},
     "output_type": "execute_result"
    }
   ],
   "source": [
    "12579/407578"
   ]
  },
  {
   "cell_type": "code",
   "execution_count": null,
   "metadata": {},
   "outputs": [],
   "source": []
  }
 ],
 "metadata": {
  "kernelspec": {
   "display_name": "Python 3",
   "language": "python",
   "name": "python3"
  },
  "language_info": {
   "codemirror_mode": {
    "name": "ipython",
    "version": 3
   },
   "file_extension": ".py",
   "mimetype": "text/x-python",
   "name": "python",
   "nbconvert_exporter": "python",
   "pygments_lexer": "ipython3",
   "version": "3.7.6"
  }
 },
 "nbformat": 4,
 "nbformat_minor": 4
}
